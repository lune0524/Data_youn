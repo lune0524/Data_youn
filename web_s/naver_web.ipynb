{
 "cells": [
  {
   "cell_type": "code",
   "execution_count": 1,
   "metadata": {},
   "outputs": [],
   "source": [
    "#step1.selenium 패키지와 time 모듈 import\n",
    "from selenium import webdriver\n",
    "from selenium.webdriver.common.keys import Keys\n",
    "from selenium.webdriver.common.by import By\n",
    "import time"
   ]
  },
  {
   "cell_type": "code",
   "execution_count": 2,
   "metadata": {},
   "outputs": [],
   "source": [
    "#step2.크롬드라이버로 원하는 url로 접속(시간이 오래 걸림)\n",
    "url = 'https://www.naver.com/'\n",
    "driver = webdriver.Chrome()\n",
    "driver.get(url)\n",
    "time.sleep(3)"
   ]
  },
  {
   "cell_type": "code",
   "execution_count": 3,
   "metadata": {},
   "outputs": [],
   "source": [
    "#step3.검색창에 키워드 입력 후 엔터\n",
    "query = '전주대 인공지능학과'\n",
    "search_box = driver.find_element(By.ID, \"query\")\n",
    "search_box.send_keys(query)\n",
    "search_box.send_keys(Keys.RETURN)"
   ]
  },
  {
   "cell_type": "code",
   "execution_count": 4,
   "metadata": {},
   "outputs": [],
   "source": [
    "#step4.뉴스 탭 클릭\n",
    "driver.find_element(By.XPATH,'//*[@id=\"lnb\"]/div[1]/div/div[1]/div/div[1]/div[8]/a').click()"
   ]
  },
  {
   "cell_type": "code",
   "execution_count": 5,
   "metadata": {},
   "outputs": [
    {
     "name": "stdout",
     "output_type": "stream",
     "text": [
      "전주대 산학협력단-(주)토스트애니메이션 '맞손'\n",
      "'푸드테크 계약학과' 9곳으로… 농식품부, 전문인재로 기업 키운다\n",
      "전주대 인공지능학과, '2024년 CO-SHOW' 대회 수상 쾌커\n",
      "전주대 인공지능학과, 첨단 분야 경진대회인 '2024년 CO-SHOW'에서 한국연...\n",
      "전주대 기술지주회사 자회사 ㈜아이트, 'AI 배리어프리 키오스크' 상용...\n",
      "전주대 산학협력단, 토스트애니메이션과 스마트 인형·심리치료 콘텐츠...\n",
      "고창 영선고-전주대, ‘인공지능분야 인재양성’ 업무협약\n",
      "대학과 지역상생 이끄는 ‘플래그십대학’ 전북대학교\n",
      "전주대 인문콘텐츠대학 '2025학년도 신입생 도전리더십 캠프' 성료\n",
      "K-V VINA 이용훈 회장, 전주대 인공지능학과 발전기금 기탁\n"
     ]
    }
   ],
   "source": [
    "#step5.뉴스 제목 텍스트 추출\n",
    "\n",
    "news_titles = driver.find_elements(By.CLASS_NAME, \"news_tit\")\n",
    "\n",
    "for i in news_titles:\n",
    "    title = i.text\n",
    "    print(title)"
   ]
  },
  {
   "cell_type": "code",
   "execution_count": 6,
   "metadata": {},
   "outputs": [],
   "source": [
    "driver.quit()"
   ]
  },
  {
   "cell_type": "code",
   "execution_count": null,
   "metadata": {},
   "outputs": [],
   "source": []
  }
 ],
 "metadata": {
  "kernelspec": {
   "display_name": "data_analysis_env",
   "language": "python",
   "name": "python3"
  },
  "language_info": {
   "codemirror_mode": {
    "name": "ipython",
    "version": 3
   },
   "file_extension": ".py",
   "mimetype": "text/x-python",
   "name": "python",
   "nbconvert_exporter": "python",
   "pygments_lexer": "ipython3",
   "version": "3.11.11"
  }
 },
 "nbformat": 4,
 "nbformat_minor": 2
}
