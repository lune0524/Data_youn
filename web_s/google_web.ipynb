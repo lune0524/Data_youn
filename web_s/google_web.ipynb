{
 "cells": [
  {
   "cell_type": "markdown",
   "metadata": {},
   "source": [
    "#### Selenium을 이용한 구글에서 전주대 검색정보 가져오기"
   ]
  },
  {
   "cell_type": "code",
   "execution_count": 11,
   "metadata": {},
   "outputs": [],
   "source": [
    "from selenium import webdriver\n",
    "from selenium.webdriver.common.by import By"
   ]
  },
  {
   "cell_type": "code",
   "execution_count": 20,
   "metadata": {},
   "outputs": [],
   "source": [
    "# Chrome 웹 드라이버 생성\n",
    "driver = webdriver.Chrome()"
   ]
  },
  {
   "cell_type": "code",
   "execution_count": 21,
   "metadata": {},
   "outputs": [],
   "source": [
    "# Google 검색 페이지 열기\n",
    "driver.get(\"https://www.google.com\")"
   ]
  },
  {
   "cell_type": "code",
   "execution_count": 14,
   "metadata": {},
   "outputs": [],
   "source": [
    "# 검색 입력 필드에 키워드 입력\n",
    "search_box = driver.find_element(By.XPATH, '//*[@id=\"APjFqb\"]')\n",
    "search_box.send_keys(\"전주대학교\")"
   ]
  },
  {
   "cell_type": "code",
   "execution_count": 15,
   "metadata": {},
   "outputs": [],
   "source": [
    "# 검색 제출\n",
    "search_box.submit()\n",
    "\n",
    "# 또는\n",
    "# from selenium.webdriver.common.keys import Keys\n",
    "# search_box.send_keys(Keys.RETURN)"
   ]
  },
  {
   "cell_type": "code",
   "execution_count": 19,
   "metadata": {},
   "outputs": [
    {
     "name": "stdout",
     "output_type": "stream",
     "text": [
      "검색 결과 제목: 전주대학교\n",
      "전주대학교\n",
      "https://www.jj.ac.kr\n",
      "JJ Giving · 전북 카카오클라우드 디지털혁신센터 구축 업무 체결. 전북 카카오 디지털혁신센터 전주대학교 유치, · 호남권 유일 인문사회 융합인재양성사업(HUSS) 주관 ...\n"
     ]
    }
   ],
   "source": [
    "# 검색 결과 중 첫 번째 결과 제목 가져오기\n",
    "result_element = driver.find_element(By.CSS_SELECTOR, \".tF2Cxc\")\n",
    "print(\"검색 결과 제목:\", result_element.text)"
   ]
  },
  {
   "cell_type": "code",
   "execution_count": 10,
   "metadata": {},
   "outputs": [],
   "source": [
    "# 웹 브라우저 종료료\n",
    "driver.quit()"
   ]
  }
 ],
 "metadata": {
  "kernelspec": {
   "display_name": "data_analysis_env",
   "language": "python",
   "name": "python3"
  },
  "language_info": {
   "codemirror_mode": {
    "name": "ipython",
    "version": 3
   },
   "file_extension": ".py",
   "mimetype": "text/x-python",
   "name": "python",
   "nbconvert_exporter": "python",
   "pygments_lexer": "ipython3",
   "version": "3.11.11"
  }
 },
 "nbformat": 4,
 "nbformat_minor": 2
}
